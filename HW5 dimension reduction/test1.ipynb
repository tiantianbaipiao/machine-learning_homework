{
 "cells": [
  {
   "cell_type": "code",
   "execution_count": 53,
   "metadata": {},
   "outputs": [],
   "source": [
    "#加载必要的包\n",
    "import numpy as np\n",
    "from scipy.io import loadmat\n",
    "import matplotlib.pyplot as plt"
   ]
  },
  {
   "cell_type": "code",
   "execution_count": 70,
   "metadata": {},
   "outputs": [
    {
     "data": {
      "text/plain": [
       "<matplotlib.collections.PathCollection at 0x1ee5bc819d0>"
      ]
     },
     "execution_count": 70,
     "metadata": {},
     "output_type": "execute_result"
    },
    {
     "data": {
      "image/png": "[encoded data removed]",
      "text/plain": [
       "<Figure size 432x288 with 1 Axes>"
      ]
     },
     "metadata": {
      "needs_background": "light"
     },
     "output_type": "display_data"
    }
   ],
   "source": [
    "#加载数据集\n",
    "data1=loadmat('data1.mat')\n",
    "data1_pca = data1['X']\n",
    "data1_pca.shape\n",
    "plt.scatter(data1_pca[:,0],data1_pca[:,1],c='r')#可视化数据集\n",
    "# # plt.plot(eigenvectors[:,0],eigenvectors[:,1])"
   ]
  },
  {
   "cell_type": "code",
   "execution_count": 71,
   "metadata": {},
   "outputs": [
    {
     "name": "stdout",
     "output_type": "stream",
     "text": [
      "(2,)\n",
      "特征值:\n",
      " [103.3840308   15.36303881]\n",
      "(2, 2)\n",
      "特征向量:\n",
      " [[ 0.76908153 -0.63915068]\n",
      " [ 0.63915068  0.76908153]]\n"
     ]
    }
   ],
   "source": [
    "# 对每一个属性的样本求均值\n",
    "MEAN = np.mean(data1_pca,axis = 0)\n",
    "# print(MEAN)\n",
    "# 去中心化\n",
    "X = np.subtract(data1_pca, MEAN)\n",
    "# print(X)\n",
    "# print(X.T) #矩阵的转置\n",
    "# 计算协方差矩阵\n",
    "COV = np.dot(X.T, X)\n",
    "# print(COV)\n",
    "# 计算特征值和特征向量\n",
    "eigenvalues,eigenvectors = np.linalg.eig(COV)\n",
    "print(eigenvalues.shape)\n",
    "print(\"特征值:\\n\",eigenvalues)\n",
    "print(eigenvectors.shape)\n",
    "print(\"特征向量:\\n\", eigenvectors)"
   ]
  },
  {
   "cell_type": "code",
   "execution_count": 72,
   "metadata": {},
   "outputs": [],
   "source": [
    "# klarge_index = eigenvalues.argsort()[-1024:][::-1] #选取最大的K个特征值及其特征向量\n",
    "# k_eigenvectors = eigenvectors[klarge_index] #用X与特征向量相乘\n",
    "# T = np.dot(X,k_eigenvectors.T)\n",
    "# print(T.shape)\n",
    "# print(T)"
   ]
  },
  {
   "cell_type": "code",
   "execution_count": 73,
   "metadata": {},
   "outputs": [],
   "source": [
    "# # 用python实现主成分分析（PCA）\n",
    "# def pca(X,k):\n",
    "#     X = X - X.mean(axis = 0) #向量X去中心化\n",
    "#     X_cov = np.cov(X.T, ddof = 0) #计算向量X的协方差矩阵，自由度可以选择0或1\n",
    "#     eigenvalues,eigenvectors = np.linalg.eig(X_cov) #计算协方差矩阵的特征值和特征向量\n",
    "#     klarge_index = eigenvalues.argsort()[-k:][::-1] #选取最大的K个特征值及其特征向量\n",
    "#     k_eigenvectors = eigenvectors[klarge_index] #用X与特征向量相乘\n",
    "#     return np.dot(X, k_eigenvectors.T)"
   ]
  },
  {
   "cell_type": "code",
   "execution_count": 57,
   "metadata": {},
   "outputs": [],
   "source": [
    "# k = 2\n",
    "# T = pca(data1_pca,k)\n",
    "# print(T)\n",
    "# #可视化\n",
    "# plt.scatter(data1_pca[:,0],data1_pca[:,1],c='r')#可视化数据集"
   ]
  },
  {
   "cell_type": "code",
   "execution_count": 74,
   "metadata": {},
   "outputs": [
    {
     "name": "stdout",
     "output_type": "stream",
     "text": [
      "[[ 0.76908153 -0.63915068]\n",
      " [ 0.63915068  0.76908153]]\n",
      "[[-1.49876595 -0.85264807]\n",
      " [ 0.95839024  0.31052167]\n",
      " [-1.40325172  0.39797881]\n",
      " [-1.76421694 -0.20776957]\n",
      " [-1.40760243  0.0941001 ]\n",
      " [ 0.87367998  1.20554431]\n",
      " [-1.27050164 -0.72543036]\n",
      " [ 2.5506712   0.0620213 ]\n",
      " [ 0.01469839  0.11214191]\n",
      " [ 0.83694188  0.11125149]\n",
      " [ 0.70212917 -0.07011155]\n",
      " [ 0.58711016  0.10806108]\n",
      " [ 0.12493311 -0.16638462]\n",
      " [ 0.74690506 -1.0645205 ]\n",
      " [-1.67629396 -0.21244075]\n",
      " [ 2.10275704 -0.04507983]\n",
      " [ 0.9594953   0.06393754]\n",
      " [-1.11633715  0.43839055]\n",
      " [ 2.37070273  1.09891406]\n",
      " [ 0.69001651 -1.0367188 ]\n",
      " [ 2.39397485  0.19259784]\n",
      " [-0.44284714  0.10794816]\n",
      " [ 1.98340505 -0.19512183]\n",
      " [ 0.01058959 -0.41626956]\n",
      " [-1.83205377  0.06844963]\n",
      " [-0.62719172  0.44289195]\n",
      " [ 1.33171608  0.1313861 ]\n",
      " [ 1.4546727  -1.0716261 ]\n",
      " [-1.01919098  0.60795693]\n",
      " [-0.01489202  0.13922846]\n",
      " [ 0.07212622  1.09755344]\n",
      " [ 1.78539513 -0.80944048]\n",
      " [-1.41318051 -0.31526975]\n",
      " [ 0.82644523 -1.10558698]\n",
      " [-0.75167377  0.05591795]\n",
      " [ 1.40551081  0.45926386]\n",
      " [-1.82309802 -0.13860901]\n",
      " [ 1.59458841 -0.44534548]\n",
      " [-2.80783613  0.05118233]\n",
      " [ 0.32551527 -0.12970593]\n",
      " [ 0.98578762  0.5106963 ]\n",
      " [-0.98465469  0.08243233]\n",
      " [-1.38952836 -0.17669787]\n",
      " [ 1.03742062  0.27814744]\n",
      " [-1.87686597 -0.65397141]\n",
      " [ 0.24535117  0.32261227]\n",
      " [-3.51800218  0.16177964]\n",
      " [-1.54860441  1.37575035]\n",
      " [-0.34412682 -0.36085883]\n",
      " [ 1.55978675  0.11094955]]\n"
     ]
    }
   ],
   "source": [
    "#后一个维度的特征值很小，也就是方差（包含的信息）很小，所以我们只\n",
    "#保留前一个维度。\n",
    "# eigenvectors = eigenvectors[:,0:1]\n",
    "print(eigenvectors)\n",
    "#计算主成分值\n",
    "T= np.dot(X,eigenvectors)\n",
    "print(T)"
   ]
  },
  {
   "cell_type": "code",
   "execution_count": null,
   "metadata": {},
   "outputs": [],
   "source": []
  }
 ],
 "metadata": {
  "kernelspec": {
   "display_name": "Python 3",
   "language": "python",
   "name": "python3"
  },
  "language_info": {
   "codemirror_mode": {
    "name": "ipython",
    "version": 3
   },
   "file_extension": ".py",
   "mimetype": "text/x-python",
   "name": "python",
   "nbconvert_exporter": "python",
   "pygments_lexer": "ipython3",
   "version": "3.8.5"
  },
  "toc": {
   "base_numbering": 1,
   "nav_menu": {},
   "number_sections": true,
   "sideBar": true,
   "skip_h1_title": false,
   "title_cell": "Table of Contents",
   "title_sidebar": "Contents",
   "toc_cell": false,
   "toc_position": {},
   "toc_section_display": true,
   "toc_window_display": false
  }
 },
 "nbformat": 4,
 "nbformat_minor": 4
}
